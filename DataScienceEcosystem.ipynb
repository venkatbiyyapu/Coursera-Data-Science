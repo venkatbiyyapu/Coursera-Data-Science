{
  "nbformat": 4,
  "nbformat_minor": 0,
  "metadata": {
    "colab": {
      "provenance": []
    },
    "kernelspec": {
      "name": "python3",
      "display_name": "Python 3"
    },
    "language_info": {
      "name": "python"
    }
  },
  "cells": [
    {
      "cell_type": "markdown",
      "source": [
        "# Data Science Tools and Ecosystem"
      ],
      "metadata": {
        "id": "wOeH8Df3Wg14"
      }
    },
    {
      "cell_type": "markdown",
      "source": [
        "In this notebook, Data Science Tools and Ecosystem are summarized."
      ],
      "metadata": {
        "id": "xfbeqiLqWpqq"
      }
    },
    {
      "cell_type": "markdown",
      "source": [
        "Some of the popular languages that Data Scientists use are:\n",
        "\n",
        "1. Python\n",
        "2. R\n",
        "3. SQL\n",
        "4. Julia\n",
        "5. Scala\n",
        "6. Java"
      ],
      "metadata": {
        "id": "b1c5b9N7X6Wi"
      }
    },
    {
      "cell_type": "markdown",
      "source": [
        "Some of the commonly used libraries used by Data Scientists include:\n",
        "1. Numpy\n",
        "2. Pandas\n",
        "3. Seaborn\n",
        "4. Matplotlib\n",
        "5. Scikit-Learn\n",
        "6. TensorFlow\n",
        "7. PyTorch\n",
        "8. Statsmodels"
      ],
      "metadata": {
        "id": "7VfhrP3Pzt3l"
      }
    },
    {
      "cell_type": "markdown",
      "source": [
        "\n",
        "|DataScience Tools |\n",
        "|------|\n",
        "|Jupyter|\n",
        "|RStudio|\n",
        "|Spyder|\n",
        "|Anaconda Navigator|\n",
        "|VScode|\n"
      ],
      "metadata": {
        "id": "ssKqnRJE3rem"
      }
    },
    {
      "cell_type": "markdown",
      "source": [
        "### Below are a few examples of evaluating arithmetic expressions in Python\n",
        "\n",
        "| **Operation**      | **Symbol** | **Example**            | **Result**       |\n",
        "|---------------------|------------|------------------------|------------------|\n",
        "| **Addition**        | `+`        | `5 + 3`                | `8`              |\n",
        "| **Subtraction**     | `-`        | `10 - 4`               | `6`              |\n",
        "| **Multiplication**  | `*`        | `7 * 2`                | `14`             |\n",
        "| **Division**        | `/`        | `8 / 2`                | `4.0`            |\n",
        "| **Exponentiation**  | `**`       | `3 ** 2`               | `9`              |\n",
        "| **Floor Division**  | `//`       | `9 // 4`               | `2`              |\n",
        "| **Modulus (Remainder)** | `%`    | `10 % 3`               | `1`              |\n",
        "\n",
        "You can combine these operators to create complex arithmetic expressions. For example:\n",
        "\n",
        "- `(5 + 3) * 2` evaluates to `16`.\n",
        "- `10 - 4 / 2` evaluates to `8.0` (division is performed before subtraction due to operator precedence).\n"
      ],
      "metadata": {
        "id": "t8012MWU8UBQ"
      }
    },
    {
      "cell_type": "code",
      "source": [
        "# This a simple arithmetic expression to mutiply then add integers\n",
        "(3*4)+5"
      ],
      "metadata": {
        "id": "KCgwlD1p8rcw",
        "colab": {
          "base_uri": "https://localhost:8080/"
        },
        "outputId": "3aa89f26-1676-4503-ae2b-e86e47dd65db"
      },
      "execution_count": null,
      "outputs": [
        {
          "output_type": "execute_result",
          "data": {
            "text/plain": [
              "17"
            ]
          },
          "metadata": {},
          "execution_count": 4
        }
      ]
    },
    {
      "cell_type": "code",
      "source": [
        "# This will convert 200 minutes to hours by diving by 60.\n",
        "mins = 200\n",
        "hours = mins/60\n",
        "hours"
      ],
      "metadata": {
        "colab": {
          "base_uri": "https://localhost:8080/"
        },
        "id": "olpXICvg-Kre",
        "outputId": "6a7e0cc1-f3b2-4451-d832-3c80459a8074"
      },
      "execution_count": null,
      "outputs": [
        {
          "output_type": "execute_result",
          "data": {
            "text/plain": [
              "3.3333333333333335"
            ]
          },
          "metadata": {},
          "execution_count": 7
        }
      ]
    },
    {
      "cell_type": "markdown",
      "source": [
        "**Objectives:**\n",
        "- List popular languages for Data Science\n",
        "- List popoular open source development environment tools for Data Science\n",
        "- List popular Data Science Libraries\n",
        "- List few arithmetic examples"
      ],
      "metadata": {
        "id": "LdNw-4Ry-5y0"
      }
    },
    {
      "cell_type": "markdown",
      "source": [
        "## Author\n",
        "Venkat Biyyapu"
      ],
      "metadata": {
        "id": "8UXoe7Wd-wYZ"
      }
    },
    {
      "cell_type": "code",
      "source": [],
      "metadata": {
        "id": "-omtcX5__Azx"
      },
      "execution_count": null,
      "outputs": []
    }
  ]
}